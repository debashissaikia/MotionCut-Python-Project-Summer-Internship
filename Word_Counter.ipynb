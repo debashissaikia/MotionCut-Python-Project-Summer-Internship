{
  "nbformat": 4,
  "nbformat_minor": 0,
  "metadata": {
    "colab": {
      "provenance": [],
      "authorship_tag": "ABX9TyPPIuXSfjD/Rd46PqA7HVx2",
      "include_colab_link": true
    },
    "kernelspec": {
      "name": "python3",
      "display_name": "Python 3"
    },
    "language_info": {
      "name": "python"
    }
  },
  "cells": [
    {
      "cell_type": "markdown",
      "metadata": {
        "id": "view-in-github",
        "colab_type": "text"
      },
      "source": [
        "<a href=\"https://colab.research.google.com/github/debashissaikia/MotionCut-Python-Project-Summer-Internship/blob/main/Word_Counter.ipynb\" target=\"_parent\"><img src=\"https://colab.research.google.com/assets/colab-badge.svg\" alt=\"Open In Colab\"/></a>"
      ]
    },
    {
      "cell_type": "code",
      "source": [
        "import pprint #Importing pprint or Pretty Print\n",
        "import matplotlib.pyplot as plt #Importing the matplotlib module\n",
        "#Taking the input from the user\n",
        "print(\"Please enter the text:\")\n",
        "print(\"----------------------------------------------------\")\n",
        "text = str(input()) #Taking the input from the user as string\n",
        "print(\"----------------------------------------------------\")"
      ],
      "metadata": {
        "colab": {
          "base_uri": "https://localhost:8080/"
        },
        "id": "MZ6s-vN1tqmk",
        "outputId": "a5a43a58-b4f6-484c-8c7e-dee82f71b0fb"
      },
      "execution_count": 1,
      "outputs": [
        {
          "output_type": "stream",
          "name": "stdout",
          "text": [
            "Please enter the text:\n",
            "----------------------------------------------------\n",
            "113\n",
            "----------------------------------------------------\n"
          ]
        }
      ]
    },
    {
      "cell_type": "code",
      "source": [
        "#Error Handling: If the provided input is empty\n",
        "if not text:\n",
        "  print(\"Error: Please enter some text.\")\n",
        "  exit()"
      ],
      "metadata": {
        "id": "CE5DMOAfD_LS"
      },
      "execution_count": 2,
      "outputs": []
    },
    {
      "cell_type": "code",
      "source": [
        "def word_count(text): #Defining the function\n",
        "  word = text.split() #split() function split the list into words\n",
        "  return word #Return the list of words\n",
        "word = word_count(text) #Call the function\n",
        "n = len(word) #Calculating the length of the list of words\n",
        "print(\"Total number of words in the text:\",n)#Printing the count"
      ],
      "metadata": {
        "colab": {
          "base_uri": "https://localhost:8080/"
        },
        "id": "ZPDlyR2ai1KV",
        "outputId": "ced32652-5d1e-44f3-92c0-f0895443cd65"
      },
      "execution_count": 8,
      "outputs": [
        {
          "output_type": "stream",
          "name": "stdout",
          "text": [
            "Total number of words in the text: 5\n"
          ]
        }
      ]
    },
    {
      "cell_type": "code",
      "source": [
        "count = 0 #Defining the count variable\n",
        "def sen_count(text): #Defining the function\n",
        "  global count #Using the global variable\n",
        "  char_list = ('.','!','?') #Defining the list of characters\n",
        "  for char in text: #Iterating through the text\n",
        "    if char == '.' or char == '!' or char == '?': #Checking if the character is in the list of characters\n",
        "      count += 1 #Incrementing the count\n",
        "    else: #If the character is not in the list of characters\n",
        "      count = 1 #Stopping the count\n",
        "  return count #Returning the count\n",
        "sen_count(text) #Calling the function\n",
        "print(\"Total number of sentences in the text: \",count) #Printing the count\n",
        "\n"
      ],
      "metadata": {
        "colab": {
          "base_uri": "https://localhost:8080/"
        },
        "id": "GY6pP-rDkl32",
        "outputId": "ccdf5eb0-2a33-407b-a989-c26c6a7f4c51"
      },
      "execution_count": 10,
      "outputs": [
        {
          "output_type": "stream",
          "name": "stdout",
          "text": [
            "Total number of sentences in the text:  1\n"
          ]
        }
      ]
    },
    {
      "cell_type": "code",
      "source": [
        "from collections import Counter #Importing the Counter function\n",
        "frequency = {} #Defining the dictionary\n",
        "def freq(text): #Defining the function\n",
        "  global frequency #Using the global variable\n",
        "  word = text.lower().split() #Making the text lowercase and Splitting the text into words\n",
        "  for element in word: #Iterating through the words\n",
        "    frequency[element] = Counter(word)[element] #Adding the word and its frequency to the dictionary\n",
        "  return frequency #Returning the dictionary\n",
        "freq(text) #Calling the function\n",
        "print(\"Frequency of words in the text: \",) #Printing the dictionary\n",
        "pprint.pprint(frequency)"
      ],
      "metadata": {
        "colab": {
          "base_uri": "https://localhost:8080/"
        },
        "id": "6udCbmJVnr-y",
        "outputId": "302300a3-8884-4e67-cf23-7774b532b9fb"
      },
      "execution_count": 11,
      "outputs": [
        {
          "output_type": "stream",
          "name": "stdout",
          "text": [
            "Frequency of words in the text: \n",
            "{'\"hello': 1, 'harry\"': 1, 'is': 1, 'my': 1, 'name': 1}\n"
          ]
        }
      ]
    },
    {
      "cell_type": "code",
      "source": [
        "#Making it user friendly: The user can observe the frequency of words in a long paragraph\n",
        "keys = list(frequency.keys()) #Making list from keys of frequency dictionary\n",
        "values = list(frequency.values()) #Making list from values of frequency dictionary\n",
        "plt.bar(keys,values) #Plotting the graph\n",
        "plt.xlabel('words') #Naming the x-axis\n",
        "plt.ylabel('frequency') #Naming the y-axis\n",
        "plt.title('Graph showing the frequency of words in the text') #Giving title to the graph\n",
        "plt.show() #Command to show the plot"
      ],
      "metadata": {
        "colab": {
          "base_uri": "https://localhost:8080/",
          "height": 472
        },
        "id": "aWiHMm4rp09s",
        "outputId": "a99d5e16-67d0-463d-c502-006fd7ca0d5c"
      },
      "execution_count": 12,
      "outputs": [
        {
          "output_type": "display_data",
          "data": {
            "text/plain": [
              "<Figure size 640x480 with 1 Axes>"
            ],
            "image/png": "[encoded data removed]"
          },
          "metadata": {}
        }
      ]
    }
  ]
}